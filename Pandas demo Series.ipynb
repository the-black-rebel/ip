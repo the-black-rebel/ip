{
 "cells": [
  {
   "cell_type": "markdown",
   "id": "53b892a1",
   "metadata": {},
   "source": [
    "# DATA HANDLING  WITH PANDAS (SERIES)\n"
   ]
  },
  {
   "cell_type": "code",
   "execution_count": 8,
   "id": "5314a803",
   "metadata": {},
   "outputs": [
    {
     "name": "stdout",
     "output_type": "stream",
     "text": [
      "Series([], dtype: float64)\n"
     ]
    }
   ],
   "source": [
    "# CREATING BLANK SERIES \n",
    "import numpy as np\n",
    "import pandas as pd \n",
    "A=np.array([])\n",
    "A1=pd.Series(A)\n",
    "print(A1)"
   ]
  },
  {
   "cell_type": "code",
   "execution_count": 14,
   "id": "4e3feb26",
   "metadata": {},
   "outputs": [
    {
     "name": "stdout",
     "output_type": "stream",
     "text": [
      "1          om\n",
      "2       aryan\n",
      "3       viraj\n",
      "4    kavyansh\n",
      "dtype: object\n"
     ]
    }
   ],
   "source": [
    "# CREATING SERIES USING DICTRIONARIES \n",
    "import pandas as pd\n",
    "import numpy as np\n",
    "A={1:'om',2:'aryan',3:'viraj',4:'kavyansh'}\n",
    "A2=pd.Series(A)\n",
    "print(A2)"
   ]
  },
  {
   "cell_type": "code",
   "execution_count": 10,
   "id": "ecd0a948",
   "metadata": {},
   "outputs": [
    {
     "name": "stdout",
     "output_type": "stream",
     "text": [
      "[[59 26 53 99 92]\n",
      " [49 14 98 78 28]\n",
      " [ 2 89 87 28 89]\n",
      " [40 36 35 67 98]\n",
      " [62 40 73 94  2]]\n"
     ]
    }
   ],
   "source": [
    "# random numbers between 0 to 100 5 by 5 matrix \n",
    "import numpy as np\n",
    "a=np.random.randint(0,100,(5,5))\n",
    "print(a)"
   ]
  },
  {
   "cell_type": "code",
   "execution_count": 16,
   "id": "ffa23782",
   "metadata": {},
   "outputs": [
    {
     "name": "stdout",
     "output_type": "stream",
     "text": [
      "0    12.0\n",
      "1     3.0\n",
      "2     4.0\n",
      "3     NaN\n",
      "dtype: float64\n",
      "True\n"
     ]
    }
   ],
   "source": [
    "# creatring series with attributes hasnans\n",
    "import pandas as pd \n",
    "a=pd.Series([12,3,4,None])\n",
    "print(a)\n",
    "print(a.hasnans)"
   ]
  },
  {
   "cell_type": "code",
   "execution_count": 22,
   "id": "9eca64ce",
   "metadata": {},
   "outputs": [
    {
     "name": "stdout",
     "output_type": "stream",
     "text": [
      "0    a\n",
      "1    b\n",
      "2    c\n",
      "3    4\n",
      "4    5\n",
      "dtype: object RangeIndex(start=0, stop=5, step=1)\n"
     ]
    }
   ],
   "source": [
    "#creating a series with the attribute indexing\n",
    "import pandas as pd\n",
    "A=pd.Series(['a','b','c',4,5])\n",
    "print(A,A.index)"
   ]
  },
  {
   "cell_type": "code",
   "execution_count": 4,
   "id": "f09feab5",
   "metadata": {},
   "outputs": [
    {
     "name": "stdout",
     "output_type": "stream",
     "text": [
      "A     95.0\n",
      "B      NaN\n",
      "C      NaN\n",
      "D     94.0\n",
      "E    131.0\n",
      "F      NaN\n",
      "G      NaN\n",
      "dtype: float64\n"
     ]
    }
   ],
   "source": [
    "# METHAMATICAL OPERATIONS (ADD)\n",
    "import pandas as pd\n",
    "s1=pd.Series([20,30,36,38,45],index=['A','B','C','D','E'])\n",
    "s2=pd.Series([75,34,56,12,86],index=['A','F','D','G','E'])\n",
    "data=s1.add(s2)\n",
    "print (data)"
   ]
  },
  {
   "cell_type": "code",
   "execution_count": 7,
   "id": "7e731fec",
   "metadata": {},
   "outputs": [
    {
     "name": "stdout",
     "output_type": "stream",
     "text": [
      "A     95.0\n",
      "B    130.0\n",
      "C    136.0\n",
      "D     94.0\n",
      "E    131.0\n",
      "F    134.0\n",
      "G    112.0\n",
      "dtype: float64\n"
     ]
    }
   ],
   "source": [
    "# MATHEMATICAL OPERATIONS (ADD)\n",
    "import pandas as pd\n",
    "s1=pd.Series([20,30,36,38,45],index=['A','B','C','D','E'])\n",
    "s2=pd.Series([75,34,56,12,86],index=['A','F','D','G','E'])\n",
    "data=s1.add(s2,fill_value=100)#data=s1+s2\n",
    "print (data)\n"
   ]
  },
  {
   "cell_type": "code",
   "execution_count": 9,
   "id": "e419fa85",
   "metadata": {},
   "outputs": [
    {
     "name": "stdout",
     "output_type": "stream",
     "text": [
      "A   -55.0\n",
      "B   -70.0\n",
      "C   -64.0\n",
      "D   -18.0\n",
      "E   -41.0\n",
      "F    66.0\n",
      "G    88.0\n",
      "dtype: float64\n"
     ]
    }
   ],
   "source": [
    "#MATHEMATICAL OPERATIONS (SUBTRACT)\n",
    "import pandas as pd\n",
    "s1=pd.Series([20,30,36,38,45],index=['A','B','C','D','E'])\n",
    "s2=pd.Series([75,34,56,12,86],index=['A','F','D','G','E'])\n",
    "data=s1.sub(s2,fill_value=100)\n",
    "print (data)"
   ]
  },
  {
   "cell_type": "code",
   "execution_count": 15,
   "id": "cc1a760f",
   "metadata": {},
   "outputs": [
    {
     "name": "stdout",
     "output_type": "stream",
     "text": [
      "A   -55.0\n",
      "B     NaN\n",
      "C     NaN\n",
      "D   -18.0\n",
      "E   -41.0\n",
      "F     NaN\n",
      "G     NaN\n",
      "dtype: float64\n"
     ]
    }
   ],
   "source": [
    "# MATHEMATICAL OPERATIONS (SUBTRACT)\n",
    "import pandas as pd\n",
    "s1=pd.Series([20,30,36,38,45],index=['A','B','C','D','E'])\n",
    "s2=pd.Series([75,34,56,12,86],index=['A','F','D','G','E'])\n",
    "data=s1.sub(s2)\n",
    "print (data)"
   ]
  },
  {
   "cell_type": "code",
   "execution_count": 16,
   "id": "68caca22",
   "metadata": {},
   "outputs": [
    {
     "name": "stdout",
     "output_type": "stream",
     "text": [
      "A    0.266667\n",
      "B         NaN\n",
      "C         NaN\n",
      "D    0.678571\n",
      "E    0.523256\n",
      "F         NaN\n",
      "G         NaN\n",
      "dtype: float64\n"
     ]
    }
   ],
   "source": [
    "#MATHEMATICAL OPERATIONS (DIVISION)\n",
    "import pandas as pd\n",
    "s1=pd.Series([20,30,36,38,45],index=['A','B','C','D','E'])\n",
    "s2=pd.Series([75,34,56,12,86],index=['A','F','D','G','E'])\n",
    "data=s1.div(s2)\n",
    "print (data)"
   ]
  },
  {
   "cell_type": "code",
   "execution_count": 17,
   "id": "9712c5dd",
   "metadata": {},
   "outputs": [
    {
     "name": "stdout",
     "output_type": "stream",
     "text": [
      "A    0.266667\n",
      "B    0.300000\n",
      "C    0.360000\n",
      "D    0.678571\n",
      "E    0.523256\n",
      "F    2.941176\n",
      "G    8.333333\n",
      "dtype: float64\n"
     ]
    }
   ],
   "source": [
    "#MATHEMATICAL OPERATIONS (DIVISION)\n",
    "import pandas as pd\n",
    "s1=pd.Series([20,30,36,38,45],index=['A','B','C','D','E'])\n",
    "s2=pd.Series([75,34,56,12,86],index=['A','F','D','G','E'])\n",
    "data=s1.div(s2,fill_value=100)\n",
    "print (data)"
   ]
  },
  {
   "cell_type": "code",
   "execution_count": 18,
   "id": "cf46c0a7",
   "metadata": {},
   "outputs": [
    {
     "name": "stdout",
     "output_type": "stream",
     "text": [
      "A    1500.0\n",
      "B       NaN\n",
      "C       NaN\n",
      "D    2128.0\n",
      "E    3870.0\n",
      "F       NaN\n",
      "G       NaN\n",
      "dtype: float64\n"
     ]
    }
   ],
   "source": [
    "#MATHEMATICAL OPERATIONS (MULTIPLICATION)\n",
    "import pandas as pd\n",
    "s1=pd.Series([20,30,36,38,45],index=['A','B','C','D','E'])\n",
    "s2=pd.Series([75,34,56,12,86],index=['A','F','D','G','E'])\n",
    "data=s1.mul(s2)\n",
    "print (data)"
   ]
  },
  {
   "cell_type": "code",
   "execution_count": 19,
   "id": "126cac64",
   "metadata": {},
   "outputs": [
    {
     "name": "stdout",
     "output_type": "stream",
     "text": [
      "A    1500.0\n",
      "B    3000.0\n",
      "C    3600.0\n",
      "D    2128.0\n",
      "E    3870.0\n",
      "F    3400.0\n",
      "G    1200.0\n",
      "dtype: float64\n"
     ]
    }
   ],
   "source": [
    "#MATHEMATICAL OPERATIONS (MULTIPLICATION)\n",
    "import pandas as pd\n",
    "s1=pd.Series([20,30,36,38,45],index=['A','B','C','D','E'])\n",
    "s2=pd.Series([75,34,56,12,86],index=['A','F','D','G','E'])\n",
    "data=s1.mul(s2,fill_value=100)\n",
    "print (data)"
   ]
  },
  {
   "cell_type": "code",
   "execution_count": 3,
   "id": "b4c0d399",
   "metadata": {},
   "outputs": [
    {
     "name": "stdout",
     "output_type": "stream",
     "text": [
      "6     1\n",
      "7     2\n",
      "8     3\n",
      "9     4\n",
      "10    5\n",
      "dtype: int64\n",
      "6     1\n",
      "7     2\n",
      "8     3\n",
      "9     4\n",
      "10    5\n",
      "dtype: int64\n"
     ]
    }
   ],
   "source": [
    "# USING HEAD FUNCTION \n",
    "import pandas as pd\n",
    "s=pd.Series(data=[1,2,3,4,5],index=[6,7,8,9,10])\n",
    "print(s)\n",
    "print(s.head())"
   ]
  },
  {
   "cell_type": "code",
   "execution_count": 6,
   "id": "cf350b56",
   "metadata": {},
   "outputs": [
    {
     "name": "stdout",
     "output_type": "stream",
     "text": [
      "tail function \n",
      "1    a\n",
      "2    b\n",
      "3    c\n",
      "4    d\n",
      "5    e\n",
      "Name: tail, dtype: object tail function \n",
      "1    a\n",
      "2    b\n",
      "3    c\n",
      "Name: tail, dtype: object\n"
     ]
    }
   ],
   "source": [
    "# USING TAIL FUNTION\n",
    "import pandas as pd\n",
    "s1=pd.Series(data=['a','b','c','d','e'],index=[1,2,3,4,5])\n",
    "s1.index.name='tail function '\n",
    "s1.name='tail'\n",
    "print(s1,s1.head(3))"
   ]
  },
  {
   "cell_type": "code",
   "execution_count": 1,
   "id": "872521f5",
   "metadata": {},
   "outputs": [
    {
     "name": "stdout",
     "output_type": "stream",
     "text": [
      "a    1\n",
      "b    2\n",
      "s    3\n",
      "d    4\n",
      "f    5\n",
      "dtype: int64\n",
      "5\n",
      "1\n",
      "5\n"
     ]
    }
   ],
   "source": [
    "# USING COUNT FUCTION\n",
    "import pandas as pd\n",
    "s=pd.Series(data=[1,2,3,4,5],index=['a','b','s','d','f'])\n",
    "print(s)\n",
    "print(s.count())\n",
    "print(s.min())\n",
    "print(s.max())"
   ]
  },
  {
   "cell_type": "code",
   "execution_count": null,
   "id": "bf31bf44",
   "metadata": {},
   "outputs": [],
   "source": []
  }
 ],
 "metadata": {
  "kernelspec": {
   "display_name": "Python 3 (ipykernel)",
   "language": "python",
   "name": "python3"
  },
  "language_info": {
   "codemirror_mode": {
    "name": "ipython",
    "version": 3
   },
   "file_extension": ".py",
   "mimetype": "text/x-python",
   "name": "python",
   "nbconvert_exporter": "python",
   "pygments_lexer": "ipython3",
   "version": "3.9.7"
  }
 },
 "nbformat": 4,
 "nbformat_minor": 5
}
