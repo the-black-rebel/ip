{
 "cells": [
  {
   "cell_type": "markdown",
   "id": "3a477200",
   "metadata": {},
   "source": [
    "# ASSIGNMENT OF DATAFRAME  QUESTION PART - 1\n",
    "# QUESTION - 1 "
   ]
  },
  {
   "cell_type": "code",
   "execution_count": 1,
   "id": "bd63632b",
   "metadata": {},
   "outputs": [
    {
     "name": "stdout",
     "output_type": "stream",
     "text": [
      "   RollNo          Name  UT1  UT2  UT3  UT4\n",
      "0       1  Paras Sharma   24   24   20   22\n",
      "1       2   Mohan Kumar   18   17   19   22\n",
      "2       3   Virat Kohli   21   22   18   24\n",
      "3       4      Sugandha   22   20   24   20\n"
     ]
    }
   ],
   "source": [
    "import pandas as pd\n",
    "c={'RollNo':[1,2,3,4],'Name':['Paras Sharma','Mohan Kumar','Virat Kohli','Sugandha'],'UT1':[24,18,21,22],'UT2':[24,17,22,20],'UT3':[20,19,18,24],'UT4':[22,22,24,20]}\n",
    "df=pd.DataFrame(c)\n",
    "print(df)"
   ]
  },
  {
   "cell_type": "markdown",
   "id": "4aca63a3",
   "metadata": {},
   "source": [
    "# QUESTION-2"
   ]
  },
  {
   "cell_type": "code",
   "execution_count": 2,
   "id": "69e57890",
   "metadata": {},
   "outputs": [
    {
     "name": "stdout",
     "output_type": "stream",
     "text": [
      "RollNo           4\n",
      "Name      Sugandha\n",
      "UT1             22\n",
      "UT2             20\n",
      "UT3             24\n",
      "UT4             20\n",
      "Name: 3, dtype: object\n"
     ]
    }
   ],
   "source": [
    "\n",
    "print(df.loc[3])"
   ]
  },
  {
   "cell_type": "markdown",
   "id": "feffb640",
   "metadata": {},
   "source": [
    "# QUESTION-3"
   ]
  },
  {
   "cell_type": "code",
   "execution_count": 3,
   "id": "a9b17bf5",
   "metadata": {},
   "outputs": [
    {
     "name": "stdout",
     "output_type": "stream",
     "text": [
      "RollNo    4\n",
      "Name      4\n",
      "UT1       4\n",
      "UT2       4\n",
      "UT3       4\n",
      "UT4       4\n",
      "dtype: int64\n"
     ]
    }
   ],
   "source": [
    "print( df.count())"
   ]
  },
  {
   "cell_type": "markdown",
   "id": "d4ea8c3f",
   "metadata": {},
   "source": [
    "# QUESTION - 4"
   ]
  },
  {
   "cell_type": "code",
   "execution_count": 4,
   "id": "2ee9f06c",
   "metadata": {},
   "outputs": [
    {
     "name": "stdout",
     "output_type": "stream",
     "text": [
      "   RollNo          Name  UT1  UT2  UT3  UT4\n",
      "0       1  Paras Sharma   24   24   20   22\n",
      "1       2   Mohan Kumar   18   17   19   22\n",
      "2       3   Virat Kohli   21   22   18   24\n",
      "3       4      Sugandha   22   20   24   20\n",
      "Index(['RollNo', 'Name', 'UT1', 'UT2', 'UT3', 'UT4'], dtype='object')\n"
     ]
    }
   ],
   "source": [
    "import pandas as pd\n",
    "c={'RollNo':[1,2,3,4],'Name':['Paras Sharma','Mohan Kumar','Virat Kohli','Sugandha'],'UT1':[24,18,21,22],'UT2':[24,17,22,20],'UT3':[20,19,18,24],'UT4':[22,22,24,20]}\n",
    "df=pd.DataFrame(c)\n",
    "print(df)\n",
    "print(df.columns)"
   ]
  },
  {
   "cell_type": "markdown",
   "id": "3a1c3a58",
   "metadata": {},
   "source": [
    "# QUESTION - 5"
   ]
  },
  {
   "cell_type": "code",
   "execution_count": 5,
   "id": "aeb57d33",
   "metadata": {},
   "outputs": [
    {
     "name": "stdout",
     "output_type": "stream",
     "text": [
      "   RollNo          Name  UT1  UT2  UT3  UT4 Grade\n",
      "0       1  Paras Sharma   24   24   20   22     A\n",
      "1       2   Mohan Kumar   18   17   19   22     B\n",
      "2       3   Virat Kohli   21   22   18   24     A\n",
      "3       4      Sugandha   22   20   24   20     A\n"
     ]
    }
   ],
   "source": [
    "df['Grade']=[\"A\",\"B\",\"A\",\"A\"]\n",
    "print(df)"
   ]
  },
  {
   "cell_type": "markdown",
   "id": "304fb18e",
   "metadata": {},
   "source": [
    "# QUESTION - 6\n"
   ]
  },
  {
   "cell_type": "code",
   "execution_count": 6,
   "id": "45737339",
   "metadata": {},
   "outputs": [
    {
     "name": "stdout",
     "output_type": "stream",
     "text": [
      "   RollNo          Name  UT1  UT2  UT3  UT4 Grade\n",
      "0       1  Paras Sharma   24   24   20   22     A\n",
      "1       2   Mohan Kumar   18   17   19   22     B\n",
      "2       3   Virat Kohli   21   22   18   24     A\n"
     ]
    }
   ],
   "source": [
    "print(df.head(3))\n"
   ]
  },
  {
   "cell_type": "markdown",
   "id": "d2b9eed0",
   "metadata": {},
   "source": [
    "# QUESTION - 7"
   ]
  },
  {
   "cell_type": "code",
   "execution_count": 7,
   "id": "b3922e66",
   "metadata": {},
   "outputs": [
    {
     "name": "stdout",
     "output_type": "stream",
     "text": [
      "   RollNo          Name  UT1  UT2  UT3  UT4 Grade\n",
      "0       1  Paras Sharma   24   24   20   22     A\n",
      "2       3   Virat Kohli   21   22   18   24     A\n",
      "3       4      Sugandha   22   20   24   20     A\n"
     ]
    }
   ],
   "source": [
    "print(df.drop(1,axis=0))"
   ]
  },
  {
   "cell_type": "markdown",
   "id": "9447ed55",
   "metadata": {},
   "source": [
    "#  QUESTION - 8"
   ]
  },
  {
   "cell_type": "code",
   "execution_count": 8,
   "id": "64f87817",
   "metadata": {},
   "outputs": [
    {
     "name": "stdout",
     "output_type": "stream",
     "text": [
      "   RollNo          Name  UT1  UT2  UT3  UT4 Grade  Total\n",
      "0       1  Paras Sharma   24   24   20   22     A     90\n",
      "1       2   Mohan Kumar   18   17   19   22     B     76\n",
      "2       3   Virat Kohli   21   22   18   24     A     85\n",
      "3       4      Sugandha   22   20   24   20     A     86\n"
     ]
    }
   ],
   "source": [
    "df['Total']=df[\"UT1\"]+df[\"UT2\"]+df[\"UT3\"]+df[\"UT4\"]\n",
    "print(df)"
   ]
  },
  {
   "cell_type": "markdown",
   "id": "19f7def1",
   "metadata": {},
   "source": [
    "# QUESTION - 9"
   ]
  },
  {
   "cell_type": "code",
   "execution_count": 9,
   "id": "a9eac302",
   "metadata": {},
   "outputs": [
    {
     "name": "stdout",
     "output_type": "stream",
     "text": [
      "   RollNo          Name  UT1  UT2  UT3  UT4 Grade  Total\n",
      "0       1  Paras Sharma   24   24   20   22     A     90\n",
      "1       2   Mohan Kumar   18   17   19   22     B     76\n",
      "2       3   Virat Kohli   21   22   18   24     A     85\n"
     ]
    }
   ],
   "source": [
    "print(df.drop(3,axis=0))"
   ]
  },
  {
   "cell_type": "markdown",
   "id": "ffb34600",
   "metadata": {},
   "source": [
    "# QUESTION - 10"
   ]
  },
  {
   "cell_type": "code",
   "execution_count": 10,
   "id": "82bcb39b",
   "metadata": {},
   "outputs": [
    {
     "name": "stdout",
     "output_type": "stream",
     "text": [
      "2\n",
      "(4, 8)\n"
     ]
    }
   ],
   "source": [
    "print(df.ndim)\n",
    "print(df.shape)"
   ]
  },
  {
   "cell_type": "markdown",
   "id": "92f5d389",
   "metadata": {},
   "source": [
    "# QUESTION-11"
   ]
  },
  {
   "cell_type": "code",
   "execution_count": 11,
   "id": "17e4ad2d",
   "metadata": {},
   "outputs": [
    {
     "name": "stdout",
     "output_type": "stream",
     "text": [
      "32\n"
     ]
    }
   ],
   "source": [
    "print(df.size)"
   ]
  },
  {
   "cell_type": "markdown",
   "id": "6ab10f32",
   "metadata": {},
   "source": [
    "# QUESTION - 12"
   ]
  },
  {
   "cell_type": "code",
   "execution_count": 12,
   "id": "38a388ea",
   "metadata": {},
   "outputs": [
    {
     "name": "stdout",
     "output_type": "stream",
     "text": [
      "   RollNo   Name    UT1    UT2    UT3    UT4  Grade  Total\n",
      "0   False  False  False  False  False  False  False  False\n",
      "1   False  False  False  False  False  False  False  False\n",
      "2   False  False  False  False  False  False  False  False\n",
      "3   False  False  False  False  False  False  False  False\n"
     ]
    }
   ],
   "source": [
    "print(df.isna())"
   ]
  },
  {
   "cell_type": "markdown",
   "id": "71fb72c2",
   "metadata": {},
   "source": [
    "# ASSIGNMENT OF DATAFRAME PART-2"
   ]
  },
  {
   "cell_type": "code",
   "execution_count": 13,
   "id": "5f1d65ae",
   "metadata": {},
   "outputs": [
    {
     "name": "stdout",
     "output_type": "stream",
     "text": [
      "     Name  UT1  Half Yearly  UT2  Final\n",
      "0  Sharad   56           83   49     89\n",
      "1   Mansi   86           67   87     90\n",
      "2  Kanika   92           78   45     66\n",
      "3  Ramesh   52           84   55     78\n",
      "4  Ankita   93           75   87     69\n",
      "5  Pranay   98           79   88     96\n"
     ]
    }
   ],
   "source": [
    "import pandas as pd\n",
    "a={'Name':['Sharad','Mansi','Kanika','Ramesh','Ankita','Pranay'],'UT1':[56,86,92,52,93,98],'Half Yearly':[83,67,78,84,75,79],'UT2':[49,87,45,55,87,88],'Final':[89,90,66,78,69,96]}\n",
    "df1=pd.DataFrame(a)\n",
    "print(df1)"
   ]
  },
  {
   "cell_type": "markdown",
   "id": "3fcb9892",
   "metadata": {},
   "source": [
    "# QUESTION - 1(i)"
   ]
  },
  {
   "cell_type": "code",
   "execution_count": 14,
   "id": "0895ff08",
   "metadata": {},
   "outputs": [
    {
     "ename": "SyntaxError",
     "evalue": "invalid syntax (1271655850.py, line 3)",
     "output_type": "error",
     "traceback": [
      "\u001b[0;36m  File \u001b[0;32m\"/tmp/ipykernel_5404/1271655850.py\"\u001b[0;36m, line \u001b[0;32m3\u001b[0m\n\u001b[0;31m    {'Names':'Deepak','Matches played':71,'Avg. Score':32}\u001b[0m\n\u001b[0m    ^\u001b[0m\n\u001b[0;31mSyntaxError\u001b[0m\u001b[0;31m:\u001b[0m invalid syntax\n"
     ]
    }
   ],
   "source": [
    "import pandas as pd\n",
    "q=[{'Names':'M S Dhoni','Matches played':251,'Avg. Score':36}\n",
    "   {'Names':'Deepak','Matches played':71,'Avg. Score':32}\n",
    "   {'Names ':'Raina','Matches played':167,'Avg. Score':42}\n",
    "   {'Names ':'Ruturaj','Matches played':56,'Avg. Score':52}\n",
    "   {'Names ':'Faf','Matches played':187,,'Avg. Score':62}\n",
    "w=pd.DataFrame()"
   ]
  },
  {
   "cell_type": "markdown",
   "id": "6160ba41",
   "metadata": {},
   "source": [
    "# QUESTION - 1(ii)"
   ]
  },
  {
   "cell_type": "code",
   "execution_count": null,
   "id": "ca86fb1e",
   "metadata": {},
   "outputs": [],
   "source": [
    "import pandas as pd\n",
    "a={'Name':['Pen','Pencil','Notebook','Eraser','Sharpner'],'Cost Price':[10,5,40,5,5],'Sales Price':[]}"
   ]
  }
 ],
 "metadata": {
  "kernelspec": {
   "display_name": "Python 3 (ipykernel)",
   "language": "python",
   "name": "python3"
  },
  "language_info": {
   "codemirror_mode": {
    "name": "ipython",
    "version": 3
   },
   "file_extension": ".py",
   "mimetype": "text/x-python",
   "name": "python",
   "nbconvert_exporter": "python",
   "pygments_lexer": "ipython3",
   "version": "3.9.7"
  }
 },
 "nbformat": 4,
 "nbformat_minor": 5
}
