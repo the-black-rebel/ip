{
 "cells": [
  {
   "cell_type": "markdown",
   "id": "3aef2efa",
   "metadata": {},
   "source": [
    "# Numerical Python"
   ]
  },
  {
   "cell_type": "code",
   "execution_count": 5,
   "id": "d6e56038",
   "metadata": {
    "scrolled": false
   },
   "outputs": [
    {
     "name": "stdout",
     "output_type": "stream",
     "text": [
      "List: [1, 2, 3, 4, 5]\n",
      "Numpy Array:- [1 2 3 4 5]\n"
     ]
    }
   ],
   "source": [
    "# Creating arrays with list \n",
    "import numpy as np\n",
    "l = [1,2,3,4,5]\n",
    "print (\"List:\",l)\n",
    "arr=np.array(l)\n",
    "print(\"Numpy Array:-\",arr)"
   ]
  },
  {
   "cell_type": "code",
   "execution_count": 10,
   "id": "9452e471",
   "metadata": {},
   "outputs": [
    {
     "name": "stdout",
     "output_type": "stream",
     "text": [
      "[(1, 2), (2, 3)]\n",
      "[[1 2]\n",
      " [2 3]]\n",
      "2\n"
     ]
    }
   ],
   "source": [
    "# creating 2 D array by using list\n",
    "import numpy as np \n",
    "l2=[(1,2),(2,3)]\n",
    "print(l2)\n",
    "arr2=np.array(l2)\n",
    "print(arr2)\n",
    "print(arr2.ndim)"
   ]
  },
  {
   "cell_type": "code",
   "execution_count": 2,
   "id": "017c73c1",
   "metadata": {},
   "outputs": [
    {
     "name": "stdout",
     "output_type": "stream",
     "text": [
      "[(1, 2, 5), (2, 3, 6), (3, 4, 7)]\n",
      "[[1 2 5]\n",
      " [2 3 6]\n",
      " [3 4 7]]\n",
      "2\n"
     ]
    }
   ],
   "source": [
    "#creating 3D array using list\n",
    "import numpy as np\n",
    "l3=[(1,2,5),(2,3,6),(3,4,7)]\n",
    "print(l3)\n",
    "arr3=np.array(l3)\n",
    "print(arr3)\n",
    "print(arr3.ndim)"
   ]
  },
  {
   "cell_type": "code",
   "execution_count": 23,
   "id": "b21d23b0",
   "metadata": {},
   "outputs": [
    {
     "name": "stdout",
     "output_type": "stream",
     "text": [
      "int8\n",
      "[  64  -32 -128   63]\n"
     ]
    }
   ],
   "source": [
    "# checking datatype of an array \n",
    "import numpy as np\n",
    "l2=[200000,300000,400000,999999]\n",
    "arr2=np.array(l2,dtype=np.int8)\n",
    "print(arr2.dtype)\n",
    "print(arr2)"
   ]
  },
  {
   "cell_type": "code",
   "execution_count": 28,
   "id": "e457a657",
   "metadata": {},
   "outputs": [
    {
     "name": "stdout",
     "output_type": "stream",
     "text": [
      "[[1 2]\n",
      " [2 3]\n",
      " [4 5]]\n",
      "Dimension of array 2\n"
     ]
    }
   ],
   "source": [
    "#creation of 2 Dimensional array \n",
    "l=[[1,2],[2,3],[4,5]]\n",
    "a2d=np.array(l)\n",
    "print(a2d)\n",
    "print(\"Dimension of array\", a2d.ndim)"
   ]
  },
  {
   "cell_type": "code",
   "execution_count": 29,
   "id": "4c2e17ef",
   "metadata": {},
   "outputs": [
    {
     "name": "stdout",
     "output_type": "stream",
     "text": [
      "[[[1 2]\n",
      "  [2 3]\n",
      "  [4 5]]]\n",
      "Dimension of array 3\n"
     ]
    }
   ],
   "source": [
    "#creation of 3 Dimensional array \n",
    "l=[[[1,2],[2,3],[4,5]]]\n",
    "a2d=np.array(l)\n",
    "print(a2d)\n",
    "print(\"Dimension of array\", a2d.ndim)"
   ]
  },
  {
   "cell_type": "code",
   "execution_count": 2,
   "id": "87cfac92",
   "metadata": {},
   "outputs": [
    {
     "name": "stdout",
     "output_type": "stream",
     "text": [
      "shape of array (2, 2)\n"
     ]
    }
   ],
   "source": [
    "import numpy as np \n",
    "li=[(1,2),(3,4)]\n",
    "a= np.array(li)\n",
    "print('shape of array', a.shape)\n"
   ]
  },
  {
   "cell_type": "code",
   "execution_count": 8,
   "id": "ed7e7ae9",
   "metadata": {},
   "outputs": [
    {
     "name": "stdout",
     "output_type": "stream",
     "text": [
      "dimension of array 2\n"
     ]
    }
   ],
   "source": [
    "import numpy as np \n",
    "li=[(1,2),(3,4)]\n",
    "a2=np.array(li)\n",
    "print('dimension of array',a2.ndim)"
   ]
  },
  {
   "cell_type": "code",
   "execution_count": 19,
   "id": "835912db",
   "metadata": {},
   "outputs": [
    {
     "name": "stdout",
     "output_type": "stream",
     "text": [
      "size of item 8\n"
     ]
    }
   ],
   "source": [
    "import numpy as np\n",
    "a=np.array([(1,2,3,4),(5,6,7,8)])\n",
    "print('size of item',a.itemsize)"
   ]
  },
  {
   "cell_type": "code",
   "execution_count": 22,
   "id": "8145e0cd",
   "metadata": {},
   "outputs": [
    {
     "name": "stdout",
     "output_type": "stream",
     "text": [
      "datatype of elements int64\n"
     ]
    }
   ],
   "source": [
    "import numpy as np\n",
    "a2=np.array([(1,2,3,4,5),(1,2,3,4,5)])\n",
    "print('datatype of elements',a2.dtype)"
   ]
  },
  {
   "cell_type": "code",
   "execution_count": 24,
   "id": "5ee84ad0",
   "metadata": {},
   "outputs": [
    {
     "name": "stdout",
     "output_type": "stream",
     "text": [
      "[[0 0 0 0 0 0]\n",
      " [0 0 0 0 0 0]\n",
      " [0 0 0 0 0 0]\n",
      " [0 0 0 0 0 0]\n",
      " [0 0 0 0 0 0]\n",
      " [0 0 0 0 0 0]\n",
      " [0 0 0 0 0 0]]\n"
     ]
    }
   ],
   "source": [
    "a3=np.zeros([7,6],dtype=np.int16)\n",
    "print(a3)"
   ]
  },
  {
   "cell_type": "code",
   "execution_count": 25,
   "id": "22af377c",
   "metadata": {},
   "outputs": [
    {
     "name": "stdout",
     "output_type": "stream",
     "text": [
      "[[1 1 1 1 1 1]\n",
      " [1 1 1 1 1 1]\n",
      " [1 1 1 1 1 1]\n",
      " [1 1 1 1 1 1]\n",
      " [1 1 1 1 1 1]\n",
      " [1 1 1 1 1 1]\n",
      " [1 1 1 1 1 1]]\n"
     ]
    }
   ],
   "source": [
    "import numpy as np\n",
    "a3=np.ones([7,6],dtype=np.int16)\n",
    "print(a3)"
   ]
  },
  {
   "cell_type": "code",
   "execution_count": 26,
   "id": "98e5ebbd",
   "metadata": {},
   "outputs": [
    {
     "name": "stdout",
     "output_type": "stream",
     "text": [
      "[[7 7 7 7 7 7]\n",
      " [7 7 7 7 7 7]\n",
      " [7 7 7 7 7 7]\n",
      " [7 7 7 7 7 7]\n",
      " [7 7 7 7 7 7]\n",
      " [7 7 7 7 7 7]\n",
      " [7 7 7 7 7 7]]\n"
     ]
    }
   ],
   "source": [
    "import numpy as np\n",
    "a3=np.full([7,6],7)\n",
    "print(a3)"
   ]
  },
  {
   "cell_type": "code",
   "execution_count": 27,
   "id": "2faf1bbd",
   "metadata": {},
   "outputs": [
    {
     "name": "stdout",
     "output_type": "stream",
     "text": [
      "[[15 15 15 15 15 15]\n",
      " [15 15 15 15 15 15]\n",
      " [15 15 15 15 15 15]\n",
      " [15 15 15 15 15 15]\n",
      " [15 15 15 15 15 15]\n",
      " [15 15 15 15 15 15]\n",
      " [15 15 15 15 15 15]]\n"
     ]
    }
   ],
   "source": [
    "import numpy as np\n",
    "a3=np.full([7,6],15)\n",
    "print(a3)"
   ]
  },
  {
   "cell_type": "code",
   "execution_count": 1,
   "id": "997443cf",
   "metadata": {},
   "outputs": [
    {
     "name": "stdout",
     "output_type": "stream",
     "text": [
      "[1]\n"
     ]
    }
   ],
   "source": [
    "import numpy as np\n",
    "a3=np.arange(1,3,10)\n",
    "print(a3)\n"
   ]
  },
  {
   "cell_type": "code",
   "execution_count": 26,
   "id": "526e2ea9",
   "metadata": {},
   "outputs": [
    {
     "name": "stdout",
     "output_type": "stream",
     "text": [
      "[10  9  8  7  6  5  4  3  2  1]\n"
     ]
    }
   ],
   "source": [
    "# NUMERICAL PYTHON CLASS PRACTICAL ASSIGNMENT\n",
    "#create an array of 10 elements with value of 10 to 1\n",
    "a1=np.arange(10,0,-1)\n",
    "print(a1)"
   ]
  },
  {
   "cell_type": "code",
   "execution_count": 18,
   "id": "a26102d3",
   "metadata": {},
   "outputs": [
    {
     "name": "stdout",
     "output_type": "stream",
     "text": [
      "[[10 10 10]\n",
      " [10 10 10]\n",
      " [10 10 10]]\n"
     ]
    }
   ],
   "source": [
    "#create an array of 3*3 filled with value 10\n",
    "a2=np.full([3,3],10)\n",
    "print(a2)"
   ]
  },
  {
   "cell_type": "code",
   "execution_count": 2,
   "id": "72077dac",
   "metadata": {},
   "outputs": [
    {
     "name": "stdout",
     "output_type": "stream",
     "text": [
      "[[41 99 57 53 76 64 33 16 73  1 67 63 42 20 64 87 68 68  3  3]\n",
      " [44 26 23 12  6 84 56  3 62  5 30  9 94 20 50 25 41 50 12 30]\n",
      " [46 36 67  2 77 19 15 15 18 95  7 95 28 19 51 30 25 44 66 12]\n",
      " [78 69 79 82  9 40 53 44 93 55 87  5 40 87 30 82 77 56 40 81]\n",
      " [17 20 79 35 58 11 32 22 84  6 24  9 17 82 64 81 26 77 73 20]\n",
      " [50 21 12 77 79 63  6 16 44 97 48 79 80  4 74 37 22 93 27  0]\n",
      " [73 61 30  7 63 51 79  8  1 46 26  9 16 74 81 90 15 43  5 73]\n",
      " [88 73 94 67 55 96 30 14 39  8 34  3 76 20 81 23 12 98 99 87]\n",
      " [43 82 33 40 16 84 44 15 55 16 39 65  6 78 23 51 84 41 91 42]\n",
      " [26 45 14 24 73 63  3 86 45  7 15 59 76 44 23 42 19 46 48 37]\n",
      " [20 19 99 21 79 39 46 34 45 13 60 53 12 72 73 99 57 29 40 12]\n",
      " [18 38 88 10 79 28 97 95 11  9 95 55 42 89 83 51 38 87 64 45]\n",
      " [73 40 37  7 98 51 84 92 19 33 90 40 68 69 53 80  7 62 30 70]\n",
      " [61 98 91 93 53 51 84 45 60  0 47 75 86 80 16 69 92 61 30 53]\n",
      " [48 10 67 90 51 66 82 51 22 82 73 92 71 18 10 20 82 96 53 31]\n",
      " [ 7 80 83 82  5  4 17 31 64 35 84 24 89  3 75 33 82 49 40  5]\n",
      " [64 37 35 67 93 40 39 39 15  3 31 14 58 57 70 91 37 84 55  4]\n",
      " [92  4 89 18 44 33 16 57 41 68 52 40 78  2 53 61 43 21 16 81]\n",
      " [27 76 12 73 17 66 27 51 66 14 66 69 79 15 62  9 93 48 39  4]\n",
      " [52 87 93 71 18  4 73 98 97 48 44 40 94 73 63 40 50 14 45 82]]\n"
     ]
    }
   ],
   "source": [
    "# create an array 20 elements with random numbers betweeen 50 and 100\n",
    "import numpy as np\n",
    "a3=np.random.randint(0,100,(20,20))\n",
    "print(a3)"
   ]
  },
  {
   "cell_type": "code",
   "execution_count": 43,
   "id": "db93d122",
   "metadata": {},
   "outputs": [
    {
     "name": "stdout",
     "output_type": "stream",
     "text": [
      "[ 1  3  6  9 11 14 17 19 22 25]\n"
     ]
    }
   ],
   "source": [
    "#create an array of 10 elements with value between 1 and 25 with uniform interval\n",
    "a1=np.linspace(1,25,10,dtype=np.int32)\n",
    "print(a1)"
   ]
  },
  {
   "cell_type": "code",
   "execution_count": null,
   "id": "61580642",
   "metadata": {},
   "outputs": [],
   "source": [
    "y=[]\n",
    " for x in range (1,11):\n",
    "        x=y+(x**2)\n",
    "        "
   ]
  }
 ],
 "metadata": {
  "kernelspec": {
   "display_name": "Python 3 (ipykernel)",
   "language": "python",
   "name": "python3"
  },
  "language_info": {
   "codemirror_mode": {
    "name": "ipython",
    "version": 3
   },
   "file_extension": ".py",
   "mimetype": "text/x-python",
   "name": "python",
   "nbconvert_exporter": "python",
   "pygments_lexer": "ipython3",
   "version": "3.9.7"
  }
 },
 "nbformat": 4,
 "nbformat_minor": 5
}
