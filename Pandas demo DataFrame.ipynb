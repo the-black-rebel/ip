{
 "cells": [
  {
   "cell_type": "markdown",
   "id": "f1efef00",
   "metadata": {},
   "source": [
    "# Data Handling using Pandas (DataFrame)"
   ]
  },
  {
   "cell_type": "code",
   "execution_count": 3,
   "id": "37714147",
   "metadata": {},
   "outputs": [
    {
     "name": "stdout",
     "output_type": "stream",
     "text": [
      "Empty DataFrame\n",
      "Columns: []\n",
      "Index: []\n",
      "Empty DataFrame\n",
      "Columns: []\n",
      "Index: []\n"
     ]
    }
   ],
   "source": [
    "#creating an enpty dataframe\n",
    "import pandas as pd\n",
    "df=pd.DataFrame()\n",
    "print(df)\n",
    "print(pd.DataFrame())"
   ]
  },
  {
   "cell_type": "code",
   "execution_count": 7,
   "id": "4d2ee56e",
   "metadata": {},
   "outputs": [
    {
     "name": "stdout",
     "output_type": "stream",
     "text": [
      "[{1: 'a', 2: 'b', 3: 'c'}, {2: 'r', 3: 'p'}]\n",
      "     1  2  3\n",
      "1    a  b  c\n",
      "2  NaN  r  p\n",
      "2\n",
      "Int64Index([1, 2], dtype='int64')\n",
      "Int64Index([1, 2, 3], dtype='int64')\n",
      "[Int64Index([1, 2], dtype='int64'), Int64Index([1, 2, 3], dtype='int64')]\n"
     ]
    }
   ],
   "source": [
    "# Creating a dataframe from the list of dictionaries\n",
    "import pandas as pd\n",
    "list1=[{1:'a',2:'b',3:'c'},{2:'r',3:'p'}]\n",
    "print(list1)\n",
    "df=pd.DataFrame(list1,index=[1,2])\n",
    "print(df)\n",
    "print(df.ndim)\n",
    "print(df.index)\n",
    "print(df.columns)\n",
    "print(df.axes)"
   ]
  },
  {
   "cell_type": "markdown",
   "id": "8396b086",
   "metadata": {},
   "source": [
    "# OUESTION -1\n"
   ]
  },
  {
   "cell_type": "code",
   "execution_count": null,
   "id": "45819934",
   "metadata": {},
   "outputs": [],
   "source": []
  }
 ],
 "metadata": {
  "kernelspec": {
   "display_name": "Python 3 (ipykernel)",
   "language": "python",
   "name": "python3"
  },
  "language_info": {
   "codemirror_mode": {
    "name": "ipython",
    "version": 3
   },
   "file_extension": ".py",
   "mimetype": "text/x-python",
   "name": "python",
   "nbconvert_exporter": "python",
   "pygments_lexer": "ipython3",
   "version": "3.9.7"
  }
 },
 "nbformat": 4,
 "nbformat_minor": 5
}
